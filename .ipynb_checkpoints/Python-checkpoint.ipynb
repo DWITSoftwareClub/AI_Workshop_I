{
 "cells": [
  {
   "cell_type": "markdown",
   "metadata": {
    "colab_type": "text",
    "id": "lD6tWdWK2nVR"
   },
   "source": [
    "# Print\n",
    "Printing can be done by using **print** followed by the entity to print."
   ]
  },
  {
   "cell_type": "code",
   "execution_count": 10,
   "metadata": {
    "colab": {
     "autoexec": {
      "startup": false,
      "wait_interval": 0
     },
     "base_uri": "https://localhost:8080/",
     "height": 119
    },
    "colab_type": "code",
    "executionInfo": {
     "elapsed": 7832,
     "status": "ok",
     "timestamp": 1525235538285,
     "user": {
      "displayName": "Nama Budda",
      "photoUrl": "//lh3.googleusercontent.com/-bs8EIri6whU/AAAAAAAAAAI/AAAAAAAAFOA/2worzW5Poi0/s50-c-k-no/photo.jpg",
      "userId": "103954825905713429993"
     },
     "user_tz": -345
    },
    "id": "TKlR-wy52nVX",
    "outputId": "921e3177-1a55-4b7e-f645-5d8af7b1dede"
   },
   "outputs": [
    {
     "name": "stdout",
     "output_type": "stream",
     "text": [
      "5\n",
      "Hello World\n",
      "True\n"
     ]
    }
   ],
   "source": [
    "print(5)\n",
    "print('Hello World')\n",
    "print(True)"
   ]
  },
  {
   "cell_type": "markdown",
   "metadata": {
    "colab_type": "text",
    "id": "apfayBtMHtXO"
   },
   "source": [
    "<br>\n",
    "If you want to print multiple items in same line, you can use a comma **,**"
   ]
  },
  {
   "cell_type": "code",
   "execution_count": 11,
   "metadata": {
    "colab": {
     "autoexec": {
      "startup": false,
      "wait_interval": 0
     }
    },
    "colab_type": "code",
    "id": "5l6y_GA-HtXS",
    "outputId": "75efdcad-a8f5-4c8b-d690-2ca0e1e28c61"
   },
   "outputs": [
    {
     "name": "stdout",
     "output_type": "stream",
     "text": [
      "5 7 15 a\n"
     ]
    }
   ],
   "source": [
    "print(5, 7, 15, \"a\")"
   ]
  },
  {
   "cell_type": "markdown",
   "metadata": {
    "colab_type": "text",
    "id": "PS9GKsLq2nV2"
   },
   "source": [
    "# Variable Naming\n",
    "Variables are entities or location used to store values of any kind.  Are \n",
    "* Can begin with alphabets a-z or A-Z or _\n",
    "* Can contain numbers but not as the first letter\n",
    "* Are case-sensitive  \n",
    "\n",
    "*There are some **keywords** reserved in python which should not be used such as **print**, **type**, **in**, **sum**, **len**. If they are used as variable names, the program might not function properly.*"
   ]
  },
  {
   "cell_type": "code",
   "execution_count": 12,
   "metadata": {
    "colab": {
     "autoexec": {
      "startup": false,
      "wait_interval": 0
     }
    },
    "colab_type": "code",
    "id": "hCbnOL172nV3"
   },
   "outputs": [],
   "source": [
    "a = 1\n",
    "A = 13\n",
    "_a1 = 5\n",
    "x_y = 10\n",
    "b = 'apples'"
   ]
  },
  {
   "cell_type": "code",
   "execution_count": 13,
   "metadata": {
    "colab": {
     "autoexec": {
      "startup": false,
      "wait_interval": 0
     }
    },
    "colab_type": "code",
    "id": "VoiS9mWXHtXk",
    "outputId": "91af0eda-e0af-446b-90c4-f8fa5dfaac15"
   },
   "outputs": [
    {
     "name": "stdout",
     "output_type": "stream",
     "text": [
      "1\n",
      "13\n"
     ]
    }
   ],
   "source": [
    "print(a)\n",
    "print(A)"
   ]
  },
  {
   "cell_type": "markdown",
   "metadata": {
    "colab_type": "text",
    "id": "odwWu6a8HtXs"
   },
   "source": [
    "# Variable Types\n",
    "In python, there are many variable types. They include:\n",
    "* int \n",
    "    * *7*\n",
    "* str \n",
    "    * *\"Hello\"*\n",
    "    * *'World'*\n",
    "* float \n",
    "    * *3.123*\n",
    "* boolean \n",
    "    * False*\n",
    "* list \n",
    "    * *[2, 5, 10, 15]*\n",
    "* tuple\n",
    "    * *(10, 2, 8)*\n",
    "* dictionary \n",
    "    * *{ \"fruit\" : \"apple\",   \n",
    "    \"qty\" : 1}*\n",
    "\n",
    "The type is auto assigned when assigning values to the variable. To know the type of variable use **type** function."
   ]
  },
  {
   "cell_type": "code",
   "execution_count": 14,
   "metadata": {
    "colab": {
     "autoexec": {
      "startup": false,
      "wait_interval": 0
     }
    },
    "colab_type": "code",
    "id": "sqTbuFDxHtXu",
    "outputId": "4c1e0af0-3121-4f78-8683-f4a3ee4d6aaf"
   },
   "outputs": [
    {
     "data": {
      "text/plain": [
       "int"
      ]
     },
     "execution_count": 14,
     "metadata": {},
     "output_type": "execute_result"
    }
   ],
   "source": [
    "a = 5\n",
    "type(a)"
   ]
  },
  {
   "cell_type": "code",
   "execution_count": 15,
   "metadata": {
    "colab": {
     "autoexec": {
      "startup": false,
      "wait_interval": 0
     }
    },
    "colab_type": "code",
    "id": "0juK1bG_HtX4",
    "outputId": "5a5c1e60-feda-4344-c3b4-3c24fd3c0f4b"
   },
   "outputs": [
    {
     "data": {
      "text/plain": [
       "float"
      ]
     },
     "execution_count": 15,
     "metadata": {},
     "output_type": "execute_result"
    }
   ],
   "source": [
    "b = 1.5\n",
    "type(b)"
   ]
  },
  {
   "cell_type": "code",
   "execution_count": 16,
   "metadata": {
    "colab": {
     "autoexec": {
      "startup": false,
      "wait_interval": 0
     }
    },
    "colab_type": "code",
    "id": "t5hPGXiSHtYC",
    "outputId": "b2af7cf0-ba6e-4030-9ac7-f4c6fc87e9ad"
   },
   "outputs": [
    {
     "data": {
      "text/plain": [
       "str"
      ]
     },
     "execution_count": 16,
     "metadata": {},
     "output_type": "execute_result"
    }
   ],
   "source": [
    "type(\"Write anything!\")"
   ]
  },
  {
   "cell_type": "code",
   "execution_count": 17,
   "metadata": {
    "colab": {
     "autoexec": {
      "startup": false,
      "wait_interval": 0
     }
    },
    "colab_type": "code",
    "id": "72FmnXWhHtYQ",
    "outputId": "0b364c5e-2836-4ba6-8005-cb72f348078e"
   },
   "outputs": [
    {
     "data": {
      "text/plain": [
       "bool"
      ]
     },
     "execution_count": 17,
     "metadata": {},
     "output_type": "execute_result"
    }
   ],
   "source": [
    "c = True\n",
    "type(c)"
   ]
  },
  {
   "cell_type": "code",
   "execution_count": 18,
   "metadata": {
    "colab": {
     "autoexec": {
      "startup": false,
      "wait_interval": 0
     }
    },
    "colab_type": "code",
    "id": "EZ1b85htHtYY",
    "outputId": "593a41ad-b981-4728-ef4c-81fb5dab9125"
   },
   "outputs": [
    {
     "data": {
      "text/plain": [
       "list"
      ]
     },
     "execution_count": 18,
     "metadata": {},
     "output_type": "execute_result"
    }
   ],
   "source": [
    "type([1, 2])"
   ]
  },
  {
   "cell_type": "code",
   "execution_count": 19,
   "metadata": {
    "colab": {
     "autoexec": {
      "startup": false,
      "wait_interval": 0
     }
    },
    "colab_type": "code",
    "id": "OyfQ6Z2ZHtYk",
    "outputId": "4f2e1f72-5760-44a8-f89f-96eb7eb78b72"
   },
   "outputs": [
    {
     "data": {
      "text/plain": [
       "tuple"
      ]
     },
     "execution_count": 19,
     "metadata": {},
     "output_type": "execute_result"
    }
   ],
   "source": [
    "type((1, 2, 3))"
   ]
  },
  {
   "cell_type": "code",
   "execution_count": 20,
   "metadata": {
    "colab": {
     "autoexec": {
      "startup": false,
      "wait_interval": 0
     }
    },
    "colab_type": "code",
    "id": "NdBua_aMHtYu",
    "outputId": "0cad2f31-4b00-4531-8af9-f1f300240190"
   },
   "outputs": [
    {
     "data": {
      "text/plain": [
       "dict"
      ]
     },
     "execution_count": 20,
     "metadata": {},
     "output_type": "execute_result"
    }
   ],
   "source": [
    "type({\"hello\": 1,\n",
    "       \"hi\": \"a\"})"
   ]
  },
  {
   "cell_type": "markdown",
   "metadata": {
    "colab_type": "text",
    "id": "P_oza_1sHtY4"
   },
   "source": [
    "# String Operations\n",
    "* Strings can be added with strings\n",
    "* Strings can be multiplied by integers\n",
    "* Strings can be formatted using curly brackets **{}** and its function **format**"
   ]
  },
  {
   "cell_type": "code",
   "execution_count": 21,
   "metadata": {
    "colab": {
     "autoexec": {
      "startup": false,
      "wait_interval": 0
     }
    },
    "colab_type": "code",
    "id": "VfFcPsY0HtY6",
    "outputId": "82393119-b56d-4244-ec23-3f9c9cbf6c0e"
   },
   "outputs": [
    {
     "data": {
      "text/plain": [
       "'abcdef'"
      ]
     },
     "execution_count": 21,
     "metadata": {},
     "output_type": "execute_result"
    }
   ],
   "source": [
    "\"abc\" + \"def\""
   ]
  },
  {
   "cell_type": "code",
   "execution_count": 22,
   "metadata": {
    "colab": {
     "autoexec": {
      "startup": false,
      "wait_interval": 0
     }
    },
    "colab_type": "code",
    "id": "hrR4v9VZHtZU",
    "outputId": "768636a7-f4b3-4e40-bebd-9ccaec3eae7b"
   },
   "outputs": [
    {
     "data": {
      "text/plain": [
       "'abc abc abc '"
      ]
     },
     "execution_count": 22,
     "metadata": {},
     "output_type": "execute_result"
    }
   ],
   "source": [
    "\"abc \"*3"
   ]
  },
  {
   "cell_type": "code",
   "execution_count": 23,
   "metadata": {
    "colab": {
     "autoexec": {
      "startup": false,
      "wait_interval": 0
     },
     "base_uri": "https://localhost:8080/",
     "height": 34
    },
    "colab_type": "code",
    "executionInfo": {
     "elapsed": 880,
     "status": "ok",
     "timestamp": 1525227386686,
     "user": {
      "displayName": "Kiran Poudel",
      "photoUrl": "https://lh3.googleusercontent.com/a/default-user=s128",
      "userId": "100399137249051217878"
     },
     "user_tz": -345
    },
    "id": "y3mV_Xwr2nWb",
    "outputId": "186c5d75-d578-4cd7-beff-7a7662a5a02b"
   },
   "outputs": [
    {
     "name": "stdout",
     "output_type": "stream",
     "text": [
      "smoking is 2 bad\n"
     ]
    }
   ],
   "source": [
    "print('{} is {} {}'.format(\"smoking\", 2, \"bad\"))"
   ]
  },
  {
   "cell_type": "markdown",
   "metadata": {
    "colab_type": "text",
    "id": "CT4pRnFk2nXJ"
   },
   "source": [
    "# Lists\n",
    "Lists can contain multiple values, which makes it easier to write programs that handle large amounts of data. The values in the list do not need to be of same data type.  \n",
    "To create a list we use square brackets **[ ]** with comma **,** to separate the elements."
   ]
  },
  {
   "cell_type": "code",
   "execution_count": 24,
   "metadata": {
    "colab": {
     "autoexec": {
      "startup": false,
      "wait_interval": 0
     }
    },
    "colab_type": "code",
    "id": "e7_rxO_g2nXK",
    "outputId": "21da8bf8-8244-442a-adbd-78464362389f"
   },
   "outputs": [
    {
     "data": {
      "text/plain": [
       "['hello', 3.1415, True, None, 42]"
      ]
     },
     "execution_count": 24,
     "metadata": {},
     "output_type": "execute_result"
    }
   ],
   "source": [
    "my_list = ['hello', 3.1415, True, None, 42]\n",
    "my_list"
   ]
  },
  {
   "cell_type": "code",
   "execution_count": 25,
   "metadata": {
    "colab": {
     "autoexec": {
      "startup": false,
      "wait_interval": 0
     }
    },
    "colab_type": "code",
    "id": "CM6jmUk5HtaM",
    "outputId": "f6f02b39-612e-44e2-fb05-3e73cbfde659"
   },
   "outputs": [
    {
     "data": {
      "text/plain": [
       "list"
      ]
     },
     "execution_count": 25,
     "metadata": {},
     "output_type": "execute_result"
    }
   ],
   "source": [
    "pl = ['i', 'you', 'we', 'he', 'she', 'they']\n",
    "type(pl)"
   ]
  },
  {
   "cell_type": "markdown",
   "metadata": {
    "colab_type": "text",
    "id": "0U4p00a4HtaY"
   },
   "source": [
    "## Length of lists\n",
    "The **length** of the list can be found using the **len** keyword."
   ]
  },
  {
   "cell_type": "code",
   "execution_count": 26,
   "metadata": {
    "colab": {
     "autoexec": {
      "startup": false,
      "wait_interval": 0
     }
    },
    "colab_type": "code",
    "id": "H6y8B59KHtae",
    "outputId": "fb6f8dd2-abb0-455d-fc17-9b9775ace953"
   },
   "outputs": [
    {
     "data": {
      "text/plain": [
       "6"
      ]
     },
     "execution_count": 26,
     "metadata": {},
     "output_type": "execute_result"
    }
   ],
   "source": [
    "len(pl)"
   ]
  },
  {
   "cell_type": "markdown",
   "metadata": {
    "colab_type": "text",
    "id": "NA2LZI_uHtak"
   },
   "source": [
    "## Indexing\n",
    "Elements of lists can be selected using their index i.e. position from the beginning in the list. Unlike functions, indexing requires square brackets **[ ]**.  \n",
    "*In python, the first index starts with 0.*"
   ]
  },
  {
   "cell_type": "code",
   "execution_count": 27,
   "metadata": {
    "colab": {
     "autoexec": {
      "startup": false,
      "wait_interval": 0
     }
    },
    "colab_type": "code",
    "id": "QIngQ3pRHtam",
    "outputId": "f16a4b73-8d3e-4d43-a4ff-b713ebc40740"
   },
   "outputs": [
    {
     "data": {
      "text/plain": [
       "['i', 'you', 'we', 'he', 'she', 'they']"
      ]
     },
     "execution_count": 27,
     "metadata": {},
     "output_type": "execute_result"
    }
   ],
   "source": [
    "pl"
   ]
  },
  {
   "cell_type": "code",
   "execution_count": 28,
   "metadata": {
    "colab": {
     "autoexec": {
      "startup": false,
      "wait_interval": 0
     }
    },
    "colab_type": "code",
    "id": "8TeYH0zOHtas",
    "outputId": "d0bb084e-ee27-48d5-ec4f-2904ab4b863d"
   },
   "outputs": [
    {
     "data": {
      "text/plain": [
       "'i'"
      ]
     },
     "execution_count": 28,
     "metadata": {},
     "output_type": "execute_result"
    }
   ],
   "source": [
    "pl[0]"
   ]
  },
  {
   "cell_type": "code",
   "execution_count": 29,
   "metadata": {
    "colab": {
     "autoexec": {
      "startup": false,
      "wait_interval": 0
     }
    },
    "colab_type": "code",
    "id": "7coBEWsV2nXM",
    "outputId": "76a881c5-1187-47dd-b310-7f8dd8582696"
   },
   "outputs": [
    {
     "data": {
      "text/plain": [
       "'you'"
      ]
     },
     "execution_count": 29,
     "metadata": {},
     "output_type": "execute_result"
    }
   ],
   "source": [
    "pl[1]"
   ]
  },
  {
   "cell_type": "markdown",
   "metadata": {
    "colab_type": "text",
    "id": "O-NUZp-wHta6"
   },
   "source": [
    "<br>\n",
    "Similarly, indexing can be done from the last as well. In this case, the last index is -1, the second last index -2 and so on."
   ]
  },
  {
   "cell_type": "code",
   "execution_count": 30,
   "metadata": {
    "colab": {
     "autoexec": {
      "startup": false,
      "wait_interval": 0
     }
    },
    "colab_type": "code",
    "id": "cHA7b7Q_2nXN",
    "outputId": "7203967d-a799-4ab4-d477-48de6b8bf069"
   },
   "outputs": [
    {
     "data": {
      "text/plain": [
       "'they'"
      ]
     },
     "execution_count": 30,
     "metadata": {},
     "output_type": "execute_result"
    }
   ],
   "source": [
    "pl[-1]"
   ]
  },
  {
   "cell_type": "markdown",
   "metadata": {
    "colab_type": "text",
    "id": "PFijxB3k2nXW"
   },
   "source": [
    "## Slicing\n",
    "Slicing can be done using a colon **:** with the starting index in front of it and the ending index after the colon.  \n",
    "*Note : The ending index is not included in the output.*"
   ]
  },
  {
   "cell_type": "code",
   "execution_count": 31,
   "metadata": {
    "colab": {
     "autoexec": {
      "startup": false,
      "wait_interval": 0
     }
    },
    "colab_type": "code",
    "id": "Q0-imRc2HtbE",
    "outputId": "55c294a1-0aa0-4f51-fb67-fe43bf7afd99"
   },
   "outputs": [
    {
     "data": {
      "text/plain": [
       "['i', 'you', 'we', 'he', 'she', 'they']"
      ]
     },
     "execution_count": 31,
     "metadata": {},
     "output_type": "execute_result"
    }
   ],
   "source": [
    "pl"
   ]
  },
  {
   "cell_type": "markdown",
   "metadata": {
    "colab_type": "text",
    "id": "ReGIW3HgHtbM"
   },
   "source": [
    "Taking elements from 0 index to 3-1=2 index."
   ]
  },
  {
   "cell_type": "code",
   "execution_count": 32,
   "metadata": {
    "colab": {
     "autoexec": {
      "startup": false,
      "wait_interval": 0
     }
    },
    "colab_type": "code",
    "id": "6avqbM3b2nXX",
    "outputId": "1b8df06f-bf0b-40df-9e14-66b9503f9c2e"
   },
   "outputs": [
    {
     "data": {
      "text/plain": [
       "['i', 'you', 'we']"
      ]
     },
     "execution_count": 32,
     "metadata": {},
     "output_type": "execute_result"
    }
   ],
   "source": [
    "pl[0:3]"
   ]
  },
  {
   "cell_type": "markdown",
   "metadata": {
    "colab_type": "text",
    "id": "zqaSjvZIHtbQ"
   },
   "source": [
    "We can take the list in reverse in the following way."
   ]
  },
  {
   "cell_type": "code",
   "execution_count": 33,
   "metadata": {
    "colab": {
     "autoexec": {
      "startup": false,
      "wait_interval": 0
     }
    },
    "colab_type": "code",
    "id": "hN8HWQWf2nXc",
    "outputId": "d006e52c-9c2f-46c7-f00c-7867346e55be"
   },
   "outputs": [
    {
     "data": {
      "text/plain": [
       "['they', 'she', 'he', 'we', 'you', 'i']"
      ]
     },
     "execution_count": 33,
     "metadata": {},
     "output_type": "execute_result"
    }
   ],
   "source": [
    "pl[::-1]"
   ]
  },
  {
   "cell_type": "markdown",
   "metadata": {
    "colab_type": "text",
    "id": "pZVnUHTAHtbU"
   },
   "source": [
    "We can also take indices with specific gap similar to in range.  \n",
    "*Again, the last index is not included in the output.*"
   ]
  },
  {
   "cell_type": "code",
   "execution_count": 34,
   "metadata": {
    "colab": {
     "autoexec": {
      "startup": false,
      "wait_interval": 0
     }
    },
    "colab_type": "code",
    "id": "sXEm1Q7nHtbU",
    "outputId": "63e6a114-5187-4f4c-f554-2fb6e2333021"
   },
   "outputs": [
    {
     "data": {
      "text/plain": [
       "['i', 'we', 'she']"
      ]
     },
     "execution_count": 34,
     "metadata": {},
     "output_type": "execute_result"
    }
   ],
   "source": [
    "pl[0:6:2]"
   ]
  },
  {
   "cell_type": "code",
   "execution_count": 35,
   "metadata": {
    "colab": {
     "autoexec": {
      "startup": false,
      "wait_interval": 0
     }
    },
    "colab_type": "code",
    "id": "Rgitxaiv2nXd",
    "outputId": "da3b3bc3-5b3d-4981-be99-8338efd982e2"
   },
   "outputs": [
    {
     "data": {
      "text/plain": [
       "['i', 'new', 'we', 'he', 'she', 'they']"
      ]
     },
     "execution_count": 35,
     "metadata": {},
     "output_type": "execute_result"
    }
   ],
   "source": [
    "pl[1] = \"new\"\n",
    "pl"
   ]
  },
  {
   "cell_type": "markdown",
   "metadata": {
    "colab_type": "text",
    "id": "c5MgZttoHtbc"
   },
   "source": [
    "## Append\n",
    "An item can be appended at the end of a list using the **append** method."
   ]
  },
  {
   "cell_type": "code",
   "execution_count": 36,
   "metadata": {
    "colab": {
     "autoexec": {
      "startup": false,
      "wait_interval": 0
     }
    },
    "colab_type": "code",
    "id": "xgKHICya2nXn",
    "outputId": "2235cd15-accc-45b0-ec9e-c40d4c6caa4f"
   },
   "outputs": [
    {
     "data": {
      "text/plain": [
       "['i', 'new', 'we', 'he', 'she', 'they', 'naya']"
      ]
     },
     "execution_count": 36,
     "metadata": {},
     "output_type": "execute_result"
    }
   ],
   "source": [
    "pl.append('naya')\n",
    "pl"
   ]
  },
  {
   "cell_type": "markdown",
   "metadata": {
    "colab_type": "text",
    "id": "2o4IDuadHtbg"
   },
   "source": [
    "# Tuple\n",
    "To create a list we use square brackets **[ ]** with comma **,** to separate the elements.  \n",
    "The indexing/slicing is exactly same in tuple as in list.\n",
    "\n",
    "**Append** is not supported."
   ]
  },
  {
   "cell_type": "code",
   "execution_count": 50,
   "metadata": {
    "colab": {
     "autoexec": {
      "startup": false,
      "wait_interval": 0
     }
    },
    "colab_type": "code",
    "id": "5Z84DmDNHtbk",
    "outputId": "3ff7bc60-31e4-468c-873e-23ec961988d7"
   },
   "outputs": [
    {
     "data": {
      "text/plain": [
       "(1, 'A', 3)"
      ]
     },
     "execution_count": 50,
     "metadata": {},
     "output_type": "execute_result"
    }
   ],
   "source": [
    "tpl = (1, 'A', 3)\n",
    "tpl"
   ]
  },
  {
   "cell_type": "code",
   "execution_count": 52,
   "metadata": {},
   "outputs": [
    {
     "data": {
      "text/plain": [
       "['i', 'new', 'we', 'he', 'she', 'they', 'naya']"
      ]
     },
     "execution_count": 52,
     "metadata": {},
     "output_type": "execute_result"
    }
   ],
   "source": [
    "pl"
   ]
  },
  {
   "cell_type": "code",
   "execution_count": 53,
   "metadata": {
    "colab": {
     "autoexec": {
      "startup": false,
      "wait_interval": 0
     }
    },
    "colab_type": "code",
    "id": "e8RkKrdlHtbq",
    "outputId": "4b0b3ea0-3915-4a51-ef9a-e6ef9c607ffc"
   },
   "outputs": [
    {
     "data": {
      "text/plain": [
       "('i', 'new', 'we', 'he', 'she', 'they', 'naya')"
      ]
     },
     "execution_count": 53,
     "metadata": {},
     "output_type": "execute_result"
    }
   ],
   "source": [
    "tpl = tuple(pl)\n",
    "tpl\n"
   ]
  },
  {
   "cell_type": "code",
   "execution_count": 46,
   "metadata": {
    "colab": {
     "autoexec": {
      "startup": false,
      "wait_interval": 0
     }
    },
    "colab_type": "code",
    "id": "ja7A6QWyHtb0",
    "outputId": "d25caf48-627f-4a81-99bd-417c7f3c0dd2"
   },
   "outputs": [
    {
     "data": {
      "text/plain": [
       "'i'"
      ]
     },
     "execution_count": 46,
     "metadata": {},
     "output_type": "execute_result"
    }
   ],
   "source": [
    "tpl[0]"
   ]
  },
  {
   "cell_type": "code",
   "execution_count": 54,
   "metadata": {
    "colab": {
     "autoexec": {
      "startup": false,
      "wait_interval": 0
     }
    },
    "colab_type": "code",
    "id": "MO-z2UYpHtb6",
    "outputId": "04b1ecaf-873e-4303-8fca-d02a57741d02"
   },
   "outputs": [
    {
     "data": {
      "text/plain": [
       "('i', 'we', 'she')"
      ]
     },
     "execution_count": 54,
     "metadata": {},
     "output_type": "execute_result"
    }
   ],
   "source": [
    "tpl[0:6:2]"
   ]
  },
  {
   "cell_type": "markdown",
   "metadata": {
    "colab_type": "text",
    "id": "DROkpZQ72nXk"
   },
   "source": [
    "## Concatenate\n",
    "We can add two or more lists.\n",
    "We can also add two or more tuples.\n",
    "Tuples and lists however, cannot be added"
   ]
  },
  {
   "cell_type": "code",
   "execution_count": 55,
   "metadata": {
    "colab": {
     "autoexec": {
      "startup": false,
      "wait_interval": 0
     }
    },
    "colab_type": "code",
    "id": "hRKM0Qdh2nXk",
    "outputId": "7fa78358-1ba7-42c6-e7b1-95aea5e48be1"
   },
   "outputs": [
    {
     "name": "stdout",
     "output_type": "stream",
     "text": [
      "['i', 'new', 'we', 'he', 'she', 'they', 'naya', 'my', 'your', 'our']\n"
     ]
    }
   ],
   "source": [
    "pl_2 = ['my', 'your', 'our']\n",
    "print(pl+pl_2)"
   ]
  },
  {
   "cell_type": "code",
   "execution_count": 56,
   "metadata": {
    "colab": {
     "autoexec": {
      "startup": false,
      "wait_interval": 0
     }
    },
    "colab_type": "code",
    "id": "XHplX08fHtcG",
    "outputId": "811e7ee9-cd94-432f-e9de-4475e8dbb7a6"
   },
   "outputs": [
    {
     "name": "stdout",
     "output_type": "stream",
     "text": [
      "('i', 'new', 'we', 'he', 'she', 'they', 'naya', 'my', 'your', 'our')\n"
     ]
    }
   ],
   "source": [
    "tpl_2 = tuple(pl_2)\n",
    "print(tpl+tpl_2)"
   ]
  },
  {
   "cell_type": "code",
   "execution_count": 57,
   "metadata": {
    "colab": {
     "autoexec": {
      "startup": false,
      "wait_interval": 0
     }
    },
    "colab_type": "code",
    "id": "MrKfliVQHtcI",
    "outputId": "6f105d04-3d88-4c83-d784-88acddf292d2"
   },
   "outputs": [
    {
     "ename": "TypeError",
     "evalue": "can only concatenate tuple (not \"list\") to tuple",
     "output_type": "error",
     "traceback": [
      "\u001b[0;31m---------------------------------------------------------------------------\u001b[0m",
      "\u001b[0;31mTypeError\u001b[0m                                 Traceback (most recent call last)",
      "\u001b[0;32m<ipython-input-57-afe43a6cadb3>\u001b[0m in \u001b[0;36m<module>\u001b[0;34m()\u001b[0m\n\u001b[0;32m----> 1\u001b[0;31m \u001b[0mprint\u001b[0m\u001b[0;34m(\u001b[0m\u001b[0mtpl\u001b[0m\u001b[0;34m+\u001b[0m\u001b[0mpl\u001b[0m\u001b[0;34m)\u001b[0m\u001b[0;34m\u001b[0m\u001b[0m\n\u001b[0m",
      "\u001b[0;31mTypeError\u001b[0m: can only concatenate tuple (not \"list\") to tuple"
     ]
    }
   ],
   "source": [
    "print(tpl+pl)"
   ]
  },
  {
   "cell_type": "markdown",
   "metadata": {
    "colab_type": "text",
    "id": "DKutFRtf2nX2"
   },
   "source": [
    "# Dictionary\n",
    "Dictionaries are variables with **key** and **value** pairs.  \n",
    "The values can be any variables. But the keys must be immutable."
   ]
  },
  {
   "cell_type": "code",
   "execution_count": 58,
   "metadata": {
    "colab": {
     "autoexec": {
      "startup": false,
      "wait_interval": 0
     },
     "base_uri": "https://localhost:8080/",
     "height": 34
    },
    "colab_type": "code",
    "executionInfo": {
     "elapsed": 23193,
     "status": "ok",
     "timestamp": 1525275724155,
     "user": {
      "displayName": "Summit Shrestha",
      "photoUrl": "//lh5.googleusercontent.com/-YYw8RFy1RK4/AAAAAAAAAAI/AAAAAAAAABQ/51JmToxRtUM/s50-c-k-no/photo.jpg",
      "userId": "110573915273242734570"
     },
     "user_tz": -345
    },
    "id": "hwPnB8GG2nX3",
    "outputId": "a7916ba0-14a8-4a79-f15b-c640db24eabd"
   },
   "outputs": [
    {
     "data": {
      "text/plain": [
       "dict"
      ]
     },
     "execution_count": 58,
     "metadata": {},
     "output_type": "execute_result"
    }
   ],
   "source": [
    "cat = {'body': 'fat', \n",
    "       'color': 'white',\n",
    "       (1, 2) : 'this is his id',\n",
    "       \"meals\": [3, 1, 2]}\n",
    "type(cat)"
   ]
  },
  {
   "cell_type": "markdown",
   "metadata": {
    "colab_type": "text",
    "id": "LnXturFgHtcQ"
   },
   "source": [
    "## Indexing in Dictionary\n",
    "We use the key instead of index for accessing dictionary elements."
   ]
  },
  {
   "cell_type": "code",
   "execution_count": 59,
   "metadata": {
    "colab": {
     "autoexec": {
      "startup": false,
      "wait_interval": 0
     }
    },
    "colab_type": "code",
    "id": "2pLVt-ha2nX4",
    "outputId": "ae92db46-d4ea-4e60-fc3c-109f3f922fd5"
   },
   "outputs": [
    {
     "data": {
      "text/plain": [
       "'Cat has white fur.'"
      ]
     },
     "execution_count": 59,
     "metadata": {},
     "output_type": "execute_result"
    }
   ],
   "source": [
    "'Cat has ' + cat['color'] + ' fur.'"
   ]
  },
  {
   "cell_type": "markdown",
   "metadata": {
    "colab_type": "text",
    "id": "4h7PcLNXHtcS"
   },
   "source": [
    "### Keys and values"
   ]
  },
  {
   "cell_type": "code",
   "execution_count": 0,
   "metadata": {
    "colab": {
     "autoexec": {
      "startup": false,
      "wait_interval": 0
     },
     "base_uri": "https://localhost:8080/",
     "height": 68
    },
    "colab_type": "code",
    "executionInfo": {
     "elapsed": 925,
     "status": "ok",
     "timestamp": 1525275749661,
     "user": {
      "displayName": "Summit Shrestha",
      "photoUrl": "//lh5.googleusercontent.com/-YYw8RFy1RK4/AAAAAAAAAAI/AAAAAAAAABQ/51JmToxRtUM/s50-c-k-no/photo.jpg",
      "userId": "110573915273242734570"
     },
     "user_tz": -345
    },
    "id": "UdZwNlOW2nX8",
    "outputId": "1c8834ca-f44c-4c19-e7e8-821018a60e08"
   },
   "outputs": [
    {
     "name": "stdout",
     "output_type": "stream",
     "text": [
      "dict_keys(['body', 'color', (1, 2), 'meals'])\n",
      "dict_values(['fat', 'white', 'this is his id', [3, 1, 2]])\n"
     ]
    }
   ],
   "source": [
    "print(cat.keys())\n",
    "print(cat.values())"
   ]
  },
  {
   "cell_type": "markdown",
   "metadata": {
    "colab_type": "text",
    "id": "x9oZFZ9WHtcW"
   },
   "source": [
    "### Updating dictionary\n",
    "Dictionary can be updated either using the **update** keyword. We can also assign new elements in the same way we do in lists but we need to use **keys** instead of indices."
   ]
  },
  {
   "cell_type": "code",
   "execution_count": 0,
   "metadata": {
    "colab": {
     "autoexec": {
      "startup": false,
      "wait_interval": 0
     }
    },
    "colab_type": "code",
    "id": "2f8gH73A2nYD",
    "outputId": "c847cabd-72ff-4ab9-bba9-f06e5a4c1073"
   },
   "outputs": [
    {
     "data": {
      "text/plain": [
       "{(1, 2): 'this is his id',\n",
       " 'body': 'fat',\n",
       " 'color': 'white',\n",
       " 'eyes': 'blue',\n",
       " 'meals': [3, 1, 2]}"
      ]
     },
     "execution_count": 38,
     "metadata": {
      "tags": []
     },
     "output_type": "execute_result"
    }
   ],
   "source": [
    "cat.update({'eyes': 'blue'})\n",
    "cat"
   ]
  },
  {
   "cell_type": "code",
   "execution_count": 0,
   "metadata": {
    "colab": {
     "autoexec": {
      "startup": false,
      "wait_interval": 0
     }
    },
    "colab_type": "code",
    "id": "oXCL8NydHtcc",
    "outputId": "db1914cd-e21e-466a-f6f4-67377f008b51"
   },
   "outputs": [
    {
     "data": {
      "text/plain": [
       "{(1, 2): 'this is his id',\n",
       " 'body': 'fat',\n",
       " 'color': 'white',\n",
       " 'eyes': 'blue',\n",
       " 'meals': [3, 1, 2],\n",
       " 'weight': 4}"
      ]
     },
     "execution_count": 39,
     "metadata": {
      "tags": []
     },
     "output_type": "execute_result"
    }
   ],
   "source": [
    "cat['weight'] = 4\n",
    "cat"
   ]
  },
  {
   "cell_type": "markdown",
   "metadata": {
    "colab_type": "text",
    "id": "1fr-NQejHtcs"
   },
   "source": [
    "# Type Casting\n",
    "Variables can be converted to another type if they are compatible. This can be done using the keyword for respective types. Some keywords are:\n",
    "* String\n",
    "    * str\n",
    "* Integer\n",
    "    * int\n",
    "* Float\n",
    "    * float\n",
    "* List\n",
    "    * list  \n",
    "\n",
    "You can try doing this yourself later for more understanding."
   ]
  },
  {
   "cell_type": "code",
   "execution_count": 0,
   "metadata": {
    "colab": {
     "autoexec": {
      "startup": false,
      "wait_interval": 0
     }
    },
    "colab_type": "code",
    "id": "evZ_jideHtcu",
    "outputId": "710df7ad-cf45-4670-ccd3-722b30aae62d"
   },
   "outputs": [
    {
     "data": {
      "text/plain": [
       "int"
      ]
     },
     "execution_count": 40,
     "metadata": {
      "tags": []
     },
     "output_type": "execute_result"
    }
   ],
   "source": [
    "type(5)"
   ]
  },
  {
   "cell_type": "code",
   "execution_count": 60,
   "metadata": {
    "colab": {
     "autoexec": {
      "startup": false,
      "wait_interval": 0
     }
    },
    "colab_type": "code",
    "id": "8W7CLPY_Htcy",
    "outputId": "07415420-2d60-4b48-f9a8-d58d57f863dd"
   },
   "outputs": [
    {
     "data": {
      "text/plain": [
       "str"
      ]
     },
     "execution_count": 60,
     "metadata": {},
     "output_type": "execute_result"
    }
   ],
   "source": [
    "type(str(5))"
   ]
  },
  {
   "cell_type": "code",
   "execution_count": 61,
   "metadata": {
    "colab": {
     "autoexec": {
      "startup": false,
      "wait_interval": 0
     }
    },
    "colab_type": "code",
    "id": "bItnoJ15Htc4",
    "outputId": "7e57d7d1-1c55-4d33-f772-4b5139e13502"
   },
   "outputs": [
    {
     "ename": "TypeError",
     "evalue": "must be str, not int",
     "output_type": "error",
     "traceback": [
      "\u001b[0;31m---------------------------------------------------------------------------\u001b[0m",
      "\u001b[0;31mTypeError\u001b[0m                                 Traceback (most recent call last)",
      "\u001b[0;32m<ipython-input-61-9b336fba32f7>\u001b[0m in \u001b[0;36m<module>\u001b[0;34m()\u001b[0m\n\u001b[0;32m----> 1\u001b[0;31m \u001b[0;34m\"abc\"\u001b[0m \u001b[0;34m+\u001b[0m \u001b[0;36m1\u001b[0m\u001b[0;34m\u001b[0m\u001b[0m\n\u001b[0m",
      "\u001b[0;31mTypeError\u001b[0m: must be str, not int"
     ]
    }
   ],
   "source": [
    "\"abc\" + 1"
   ]
  },
  {
   "cell_type": "code",
   "execution_count": 0,
   "metadata": {
    "colab": {
     "autoexec": {
      "startup": false,
      "wait_interval": 0
     }
    },
    "colab_type": "code",
    "id": "VW8Cqq_KHtc8",
    "outputId": "69873757-5522-46ad-d77d-2cb676df474c"
   },
   "outputs": [
    {
     "data": {
      "text/plain": [
       "'abc1'"
      ]
     },
     "execution_count": 43,
     "metadata": {
      "tags": []
     },
     "output_type": "execute_result"
    }
   ],
   "source": [
    "\"abc\" + str(1)"
   ]
  },
  {
   "cell_type": "markdown",
   "metadata": {
    "colab_type": "text",
    "id": "H_dkA_fvHtdA"
   },
   "source": [
    "# Comparators\n",
    "* Equal to\n",
    "    * ==\n",
    "* Not equal to\n",
    "    * !=\n",
    "* Less than\n",
    "    * <\n",
    "* Greater than\n",
    "    * >\n",
    "* Less than or equal to\n",
    "    * <=\n",
    "* Greater than or equal to\n",
    "    * \\>=\n",
    "They return boolean values."
   ]
  },
  {
   "cell_type": "code",
   "execution_count": 0,
   "metadata": {
    "colab": {
     "autoexec": {
      "startup": false,
      "wait_interval": 0
     },
     "base_uri": "https://localhost:8080/",
     "height": 68
    },
    "colab_type": "code",
    "executionInfo": {
     "elapsed": 898,
     "status": "ok",
     "timestamp": 1525227380322,
     "user": {
      "displayName": "Kiran Poudel",
      "photoUrl": "https://lh3.googleusercontent.com/a/default-user=s128",
      "userId": "100399137249051217878"
     },
     "user_tz": -345
    },
    "id": "zSsJ3L7k2nWT",
    "outputId": "0f8641b1-29a4-4196-a36d-5c4ef404ce08"
   },
   "outputs": [
    {
     "data": {
      "text/plain": [
       "True"
      ]
     },
     "execution_count": 44,
     "metadata": {
      "tags": []
     },
     "output_type": "execute_result"
    }
   ],
   "source": [
    "2 != 3"
   ]
  },
  {
   "cell_type": "code",
   "execution_count": 0,
   "metadata": {
    "colab": {
     "autoexec": {
      "startup": false,
      "wait_interval": 0
     }
    },
    "colab_type": "code",
    "id": "cshnEo7nHtdU",
    "outputId": "ddd8632c-a452-43b8-8aed-af4320282d95"
   },
   "outputs": [
    {
     "data": {
      "text/plain": [
       "False"
      ]
     },
     "execution_count": 45,
     "metadata": {
      "tags": []
     },
     "output_type": "execute_result"
    }
   ],
   "source": [
    "2 == 3"
   ]
  },
  {
   "cell_type": "code",
   "execution_count": 0,
   "metadata": {
    "colab": {
     "autoexec": {
      "startup": false,
      "wait_interval": 0
     }
    },
    "colab_type": "code",
    "id": "HJnEXGP3Htdg",
    "outputId": "f67fc68e-2de3-4309-81ca-4c64e7747e03"
   },
   "outputs": [
    {
     "data": {
      "text/plain": [
       "True"
      ]
     },
     "execution_count": 46,
     "metadata": {
      "tags": []
     },
     "output_type": "execute_result"
    }
   ],
   "source": [
    "7 >= 5"
   ]
  },
  {
   "cell_type": "code",
   "execution_count": 0,
   "metadata": {
    "colab": {
     "autoexec": {
      "startup": false,
      "wait_interval": 0
     }
    },
    "colab_type": "code",
    "id": "GxUp5yrfHtdo",
    "outputId": "bd072573-10ed-45aa-d794-a9b68ed68611"
   },
   "outputs": [
    {
     "data": {
      "text/plain": [
       "True"
      ]
     },
     "execution_count": 47,
     "metadata": {
      "tags": []
     },
     "output_type": "execute_result"
    }
   ],
   "source": [
    "7 >= 7"
   ]
  },
  {
   "cell_type": "markdown",
   "metadata": {
    "colab_type": "text",
    "id": "suvygt9lHtes"
   },
   "source": [
    "# Functions\n",
    "Properties of Functions in python:\n",
    "* Named entities\n",
    "* Perform specific tasks\n",
    "* Operate on 0, 1 or more values/variables\n",
    "* Can be called using their name followed by small brackets **()**\n",
    "* Follow the same naming convention as variables\n",
    "* Are defined using the keyword **def**\n",
    "* May or may not return 1 or more values\n",
    "* Use keyword **return** to return values\n",
    "* Do not use curly brackets or semicolon like in other languages\n",
    "* Use indentation to separate blocks\n",
    "\n",
    "*P.S. Do not forget the colon **:** in the end of the line in which def keyword is used.*"
   ]
  },
  {
   "cell_type": "markdown",
   "metadata": {
    "colab_type": "text",
    "id": "ba9vZxTdHtes"
   },
   "source": [
    "Function with no parameters"
   ]
  },
  {
   "cell_type": "code",
   "execution_count": 62,
   "metadata": {
    "colab": {
     "autoexec": {
      "startup": false,
      "wait_interval": 0
     }
    },
    "colab_type": "code",
    "id": "CV4z4ff_Hteu"
   },
   "outputs": [],
   "source": [
    "def abc():\n",
    "    print(10)"
   ]
  },
  {
   "cell_type": "code",
   "execution_count": 0,
   "metadata": {
    "colab": {
     "autoexec": {
      "startup": false,
      "wait_interval": 0
     }
    },
    "colab_type": "code",
    "id": "vBAOWWPCHtey",
    "outputId": "a707368c-fce0-4c56-aacf-7b3eae29ad3e"
   },
   "outputs": [
    {
     "name": "stdout",
     "output_type": "stream",
     "text": [
      "10\n"
     ]
    }
   ],
   "source": [
    "abc()"
   ]
  },
  {
   "cell_type": "markdown",
   "metadata": {
    "colab_type": "text",
    "id": "QG8AVRRnHte8"
   },
   "source": [
    "Function with 2 parameters"
   ]
  },
  {
   "cell_type": "code",
   "execution_count": 64,
   "metadata": {
    "colab": {
     "autoexec": {
      "startup": false,
      "wait_interval": 0
     }
    },
    "colab_type": "code",
    "id": "qsaWKuisHte-"
   },
   "outputs": [],
   "source": [
    "def f(a, b):\n",
    "    x = a + b\n",
    "    print(x)"
   ]
  },
  {
   "cell_type": "code",
   "execution_count": 65,
   "metadata": {
    "colab": {
     "autoexec": {
      "startup": false,
      "wait_interval": 0
     }
    },
    "colab_type": "code",
    "id": "WcRjphDQHte-",
    "outputId": "3f8c91fe-99ce-4baa-885a-ea04bc232f01"
   },
   "outputs": [
    {
     "name": "stdout",
     "output_type": "stream",
     "text": [
      "15\n"
     ]
    }
   ],
   "source": [
    "f(10, 5)"
   ]
  },
  {
   "cell_type": "markdown",
   "metadata": {
    "colab_type": "text",
    "id": "Qej0JOlUHtfA"
   },
   "source": [
    "Function with 1 parameter that returns 3 values"
   ]
  },
  {
   "cell_type": "code",
   "execution_count": 71,
   "metadata": {
    "colab": {
     "autoexec": {
      "startup": false,
      "wait_interval": 0
     }
    },
    "colab_type": "code",
    "id": "Bc67mKDgHtfA"
   },
   "outputs": [],
   "source": [
    "def g(x):\n",
    "    return x, 2, 3"
   ]
  },
  {
   "cell_type": "code",
   "execution_count": 72,
   "metadata": {
    "colab": {
     "autoexec": {
      "startup": false,
      "wait_interval": 0
     }
    },
    "colab_type": "code",
    "id": "tp613Y4uHtfC",
    "outputId": "4022c21e-72ab-4014-86ca-b2d3a18dbc19"
   },
   "outputs": [
    {
     "data": {
      "text/plain": [
       "(4, 2, 3)"
      ]
     },
     "execution_count": 72,
     "metadata": {},
     "output_type": "execute_result"
    }
   ],
   "source": [
    "g(4)"
   ]
  },
  {
   "cell_type": "code",
   "execution_count": 73,
   "metadata": {
    "colab": {
     "autoexec": {
      "startup": false,
      "wait_interval": 0
     }
    },
    "colab_type": "code",
    "id": "nxGH4X802nXI",
    "outputId": "72759464-f0aa-4056-ee71-ae0bd88797a5"
   },
   "outputs": [
    {
     "name": "stdout",
     "output_type": "stream",
     "text": [
      "3\n"
     ]
    }
   ],
   "source": [
    "def add_numbers(a, b):\n",
    "    return a + b\n",
    "s = add_numbers(1, 2)\n",
    "print(s)"
   ]
  },
  {
   "cell_type": "markdown",
   "metadata": {
    "colab_type": "text",
    "id": "ne5g1xX8HtfG"
   },
   "source": [
    "The variables used inside the functions are specific to that function and cannot be accessed outside without special cases."
   ]
  },
  {
   "cell_type": "code",
   "execution_count": 76,
   "metadata": {
    "colab": {
     "autoexec": {
      "startup": false,
      "wait_interval": 0
     }
    },
    "colab_type": "code",
    "id": "gFFaz9XQHtfG",
    "outputId": "f23ffff0-cc48-4c6b-fb2d-5cc8d55106d3"
   },
   "outputs": [
    {
     "ename": "NameError",
     "evalue": "name 'x' is not defined",
     "output_type": "error",
     "traceback": [
      "\u001b[0;31m---------------------------------------------------------------------------\u001b[0m",
      "\u001b[0;31mNameError\u001b[0m                                 Traceback (most recent call last)",
      "\u001b[0;32m<ipython-input-76-6fcf9dfbd479>\u001b[0m in \u001b[0;36m<module>\u001b[0;34m()\u001b[0m\n\u001b[0;32m----> 1\u001b[0;31m \u001b[0mx\u001b[0m\u001b[0;34m\u001b[0m\u001b[0m\n\u001b[0m",
      "\u001b[0;31mNameError\u001b[0m: name 'x' is not defined"
     ]
    }
   ],
   "source": [
    "x"
   ]
  },
  {
   "cell_type": "markdown",
   "metadata": {
    "colab_type": "text",
    "id": "ToVPyDZ12nWk"
   },
   "source": [
    "# Flow Control\n",
    "*Do not forget colon **:** a the end of the conditional lines.*"
   ]
  },
  {
   "cell_type": "markdown",
   "metadata": {
    "colab_type": "text",
    "id": "RWfjEpu72nWl"
   },
   "source": [
    "## Conditions\n",
    "* if\n",
    "* if ... else\n",
    "* if ... elif\n",
    "* if ... elif ... else"
   ]
  },
  {
   "cell_type": "code",
   "execution_count": 0,
   "metadata": {
    "colab": {
     "autoexec": {
      "startup": false,
      "wait_interval": 0
     }
    },
    "colab_type": "code",
    "id": "fkAnBNj62nWn"
   },
   "outputs": [],
   "source": [
    "def rel(a, c):\n",
    "    if a == c:\n",
    "        print(\"Equal\")\n",
    "    elif a > c:\n",
    "        print(\"Greater\")\n",
    "    else:\n",
    "        print(\"Less\")"
   ]
  },
  {
   "cell_type": "code",
   "execution_count": 0,
   "metadata": {
    "colab": {
     "autoexec": {
      "startup": false,
      "wait_interval": 0
     }
    },
    "colab_type": "code",
    "id": "M8nRxTFuHtdw",
    "outputId": "5dfdb0f6-2842-45d7-fccc-ebd4356eb52c"
   },
   "outputs": [
    {
     "name": "stdout",
     "output_type": "stream",
     "text": [
      "Less\n"
     ]
    }
   ],
   "source": [
    "rel(1, 2)"
   ]
  },
  {
   "cell_type": "code",
   "execution_count": 0,
   "metadata": {
    "colab": {
     "autoexec": {
      "startup": false,
      "wait_interval": 0
     }
    },
    "colab_type": "code",
    "id": "bM15ud73Htd0",
    "outputId": "6342b71e-6911-4f22-ec93-25ae6da1936d"
   },
   "outputs": [
    {
     "name": "stdout",
     "output_type": "stream",
     "text": [
      "Equal\n"
     ]
    }
   ],
   "source": [
    "rel(1, 1)"
   ]
  },
  {
   "cell_type": "code",
   "execution_count": 0,
   "metadata": {
    "colab": {
     "autoexec": {
      "startup": false,
      "wait_interval": 0
     }
    },
    "colab_type": "code",
    "id": "5CkgjO6pHtd4",
    "outputId": "5eee5bf5-8f44-45b3-e483-ec5f419c88ea"
   },
   "outputs": [
    {
     "name": "stdout",
     "output_type": "stream",
     "text": [
      "Greater\n"
     ]
    }
   ],
   "source": [
    "rel(2, 1)"
   ]
  },
  {
   "cell_type": "markdown",
   "metadata": {
    "colab_type": "text",
    "id": "tDxwu71W2nW1"
   },
   "source": [
    "## while loop"
   ]
  },
  {
   "cell_type": "code",
   "execution_count": 0,
   "metadata": {
    "colab": {
     "autoexec": {
      "startup": false,
      "wait_interval": 0
     },
     "base_uri": "https://localhost:8080/",
     "height": 102
    },
    "colab_type": "code",
    "executionInfo": {
     "elapsed": 983,
     "status": "ok",
     "timestamp": 1525235570472,
     "user": {
      "displayName": "Nama Budda",
      "photoUrl": "//lh3.googleusercontent.com/-bs8EIri6whU/AAAAAAAAAAI/AAAAAAAAFOA/2worzW5Poi0/s50-c-k-no/photo.jpg",
      "userId": "103954825905713429993"
     },
     "user_tz": -345
    },
    "id": "IzThOM_O2nW4",
    "outputId": "e3b769d4-08ef-418b-a7fb-b2ebdab85031"
   },
   "outputs": [
    {
     "name": "stdout",
     "output_type": "stream",
     "text": [
      "0\n",
      "1\n",
      "2\n",
      "3\n",
      "4\n",
      "5\n",
      "6\n",
      "7\n",
      "8\n",
      "9\n"
     ]
    }
   ],
   "source": [
    "w = 0\n",
    "while w != 10:\n",
    "    print(w)\n",
    "    w = w + 1"
   ]
  },
  {
   "cell_type": "markdown",
   "metadata": {
    "colab_type": "text",
    "id": "iTZDBibA2nW5"
   },
   "source": [
    "## for loop\n",
    "Iterate over the specified iterator types of items such as lists and dictionaries."
   ]
  },
  {
   "cell_type": "code",
   "execution_count": 0,
   "metadata": {
    "colab": {
     "autoexec": {
      "startup": false,
      "wait_interval": 0
     }
    },
    "colab_type": "code",
    "id": "yxjR4_UjHteE",
    "outputId": "7226bbac-b4ee-4880-8ca8-4962d4196be8"
   },
   "outputs": [
    {
     "name": "stdout",
     "output_type": "stream",
     "text": [
      "1\n",
      "2\n",
      "3\n"
     ]
    }
   ],
   "source": [
    "for i in [1, 2, 3]:\n",
    "    print(i)"
   ]
  },
  {
   "cell_type": "markdown",
   "metadata": {
    "colab_type": "text",
    "id": "WWtYuhJYHteG"
   },
   "source": [
    "*Note: range(x) gives an iterator from 0 to x-1*  "
   ]
  },
  {
   "cell_type": "code",
   "execution_count": 0,
   "metadata": {
    "colab": {
     "autoexec": {
      "startup": false,
      "wait_interval": 0
     }
    },
    "colab_type": "code",
    "id": "UnXsFbTZ2nW6",
    "outputId": "5fdd462a-6e45-493c-e8a5-3b5250793d01"
   },
   "outputs": [
    {
     "name": "stdout",
     "output_type": "stream",
     "text": [
      "0\n",
      "1\n",
      "2\n",
      "3\n",
      "4\n"
     ]
    }
   ],
   "source": [
    "for i in range(5):\n",
    "    print(i)"
   ]
  },
  {
   "cell_type": "code",
   "execution_count": 0,
   "metadata": {
    "colab": {
     "autoexec": {
      "startup": false,
      "wait_interval": 0
     }
    },
    "colab_type": "code",
    "id": "V9DL0IbB2nW8",
    "outputId": "33d796e1-eede-4aa9-b0b3-bae8faf96b2f"
   },
   "outputs": [
    {
     "name": "stdout",
     "output_type": "stream",
     "text": [
      "10\n",
      "12\n",
      "14\n",
      "16\n",
      "18\n"
     ]
    }
   ],
   "source": [
    "for i in range(10, 20, 2):\n",
    "    print(i)"
   ]
  },
  {
   "cell_type": "code",
   "execution_count": 83,
   "metadata": {
    "colab": {
     "autoexec": {
      "startup": false,
      "wait_interval": 0
     }
    },
    "colab_type": "code",
    "id": "Cw3wursJ2nXB",
    "outputId": "b113bc0a-bb36-4b3a-83da-fa8f15a63ce5"
   },
   "outputs": [
    {
     "name": "stdout",
     "output_type": "stream",
     "text": [
      "6\n"
     ]
    }
   ],
   "source": [
    "total = 0\n",
    "for num in range(4):\n",
    "    #num\n",
    "    #print(num)\n",
    "    total = total + num\n",
    "print(total)\n",
    "#print(num)\n",
    "\n"
   ]
  },
  {
   "cell_type": "markdown",
   "metadata": {
    "colab_type": "text",
    "id": "xBEgdRuxHtec"
   },
   "source": [
    "# Mutable vs Immutable\n",
    "The difference between lists and tuples is the fact that lists are mutable while tuples are immutable.  \n",
    "To understand it clearly, at a higher level, we can say that mutable objects are the ones that can be changed while immutable objects are the ones that cannot be changed after assignment.  \n",
    "\n",
    "You can read more about it [here](https://medium.com/@meghamohan/mutable-and-immutable-side-of-python-c2145cf72747)."
   ]
  },
  {
   "cell_type": "markdown",
   "metadata": {
    "colab_type": "text",
    "id": "QC9iKz9uHtec"
   },
   "source": [
    "<br>\n",
    "Lists --> Mutable"
   ]
  },
  {
   "cell_type": "code",
   "execution_count": 84,
   "metadata": {
    "colab": {
     "autoexec": {
      "startup": false,
      "wait_interval": 0
     }
    },
    "colab_type": "code",
    "id": "-DcAr_RUHtee",
    "outputId": "46a67c19-a4fd-4138-9087-44edc42e4cf5"
   },
   "outputs": [
    {
     "data": {
      "text/plain": [
       "['i', 'new', 'we', 'he', 'she', 'they', 'naya']"
      ]
     },
     "execution_count": 84,
     "metadata": {},
     "output_type": "execute_result"
    }
   ],
   "source": [
    "pl"
   ]
  },
  {
   "cell_type": "code",
   "execution_count": 0,
   "metadata": {
    "colab": {
     "autoexec": {
      "startup": false,
      "wait_interval": 0
     }
    },
    "colab_type": "code",
    "id": "FYqIp0kCHtei",
    "outputId": "e24dbd19-33f2-4388-a461-cb9631134855"
   },
   "outputs": [
    {
     "data": {
      "text/plain": [
       "['new', 'new', 'we', 'he', 'she', 'they', 'naya']"
      ]
     },
     "execution_count": 58,
     "metadata": {
      "tags": []
     },
     "output_type": "execute_result"
    }
   ],
   "source": [
    "pl[0] = \"new\"\n",
    "pl"
   ]
  },
  {
   "cell_type": "markdown",
   "metadata": {
    "colab_type": "text",
    "id": "TxOLcokxHtek"
   },
   "source": [
    "<br>\n",
    "Tuples --> Immutable"
   ]
  },
  {
   "cell_type": "code",
   "execution_count": 0,
   "metadata": {
    "colab": {
     "autoexec": {
      "startup": false,
      "wait_interval": 0
     }
    },
    "colab_type": "code",
    "id": "97rUmlHJHtem",
    "outputId": "6baf4ea7-91d4-44be-f5dc-ecb4464e222d"
   },
   "outputs": [
    {
     "data": {
      "text/plain": [
       "('i', 'new', 'we', 'he', 'she', 'they', 'naya')"
      ]
     },
     "execution_count": 59,
     "metadata": {
      "tags": []
     },
     "output_type": "execute_result"
    }
   ],
   "source": [
    "tpl"
   ]
  },
  {
   "cell_type": "code",
   "execution_count": 0,
   "metadata": {
    "colab": {
     "autoexec": {
      "startup": false,
      "wait_interval": 0
     }
    },
    "colab_type": "code",
    "id": "MPBotOo3Hteq",
    "outputId": "7caf3fa6-75df-45e1-c37c-70fddb13e726"
   },
   "outputs": [
    {
     "ename": "TypeError",
     "evalue": "'tuple' object does not support item assignment",
     "output_type": "error",
     "traceback": [
      "\u001b[0;31m---------------------------------------------------------------------------\u001b[0m",
      "\u001b[0;31mTypeError\u001b[0m                                 Traceback (most recent call last)",
      "\u001b[0;32m<ipython-input-60-8d664f449449>\u001b[0m in \u001b[0;36m<module>\u001b[0;34m()\u001b[0m\n\u001b[0;32m----> 1\u001b[0;31m \u001b[0mtpl\u001b[0m\u001b[0;34m[\u001b[0m\u001b[0;36m0\u001b[0m\u001b[0;34m]\u001b[0m \u001b[0;34m=\u001b[0m \u001b[0;34m\"new\"\u001b[0m\u001b[0;34m\u001b[0m\u001b[0m\n\u001b[0m",
      "\u001b[0;31mTypeError\u001b[0m: 'tuple' object does not support item assignment"
     ]
    }
   ],
   "source": [
    "tpl[0] = \"new\""
   ]
  },
  {
   "cell_type": "markdown",
   "metadata": {
    "colab_type": "text",
    "id": "P-sLL1r_HtfI"
   },
   "source": [
    "# Importing modules"
   ]
  },
  {
   "cell_type": "code",
   "execution_count": 0,
   "metadata": {
    "colab": {
     "autoexec": {
      "startup": false,
      "wait_interval": 0
     }
    },
    "colab_type": "code",
    "id": "uq61ZY-CHtfI"
   },
   "outputs": [],
   "source": [
    "import numpy"
   ]
  },
  {
   "cell_type": "code",
   "execution_count": 0,
   "metadata": {
    "colab": {
     "autoexec": {
      "startup": false,
      "wait_interval": 0
     }
    },
    "colab_type": "code",
    "id": "RoSIXQppHtfI",
    "outputId": "918301db-b010-4060-c3de-8b6cfa6cbc0d"
   },
   "outputs": [
    {
     "data": {
      "text/plain": [
       "array([1, 2])"
      ]
     },
     "execution_count": 79,
     "metadata": {
      "tags": []
     },
     "output_type": "execute_result"
    }
   ],
   "source": [
    "numpy.array([1, 2])"
   ]
  },
  {
   "cell_type": "markdown",
   "metadata": {
    "colab_type": "text",
    "id": "aLPOWMFkHtfK"
   },
   "source": [
    "## Alias \n",
    "Short words used instead of longer library names."
   ]
  },
  {
   "cell_type": "code",
   "execution_count": 0,
   "metadata": {
    "colab": {
     "autoexec": {
      "startup": false,
      "wait_interval": 0
     }
    },
    "colab_type": "code",
    "id": "jrtrsbKNHtfK"
   },
   "outputs": [],
   "source": [
    "import numpy as np"
   ]
  },
  {
   "cell_type": "code",
   "execution_count": 0,
   "metadata": {
    "colab": {
     "autoexec": {
      "startup": false,
      "wait_interval": 0
     }
    },
    "colab_type": "code",
    "id": "V4BnV6tKHtfM",
    "outputId": "89dd6a39-5bde-4915-d24d-dbfde7f129e2"
   },
   "outputs": [
    {
     "data": {
      "text/plain": [
       "array([1, 2])"
      ]
     },
     "execution_count": 77,
     "metadata": {
      "tags": []
     },
     "output_type": "execute_result"
    }
   ],
   "source": [
    "np.array([1, 2])"
   ]
  },
  {
   "cell_type": "code",
   "execution_count": 0,
   "metadata": {
    "colab": {
     "autoexec": {
      "startup": false,
      "wait_interval": 0
     }
    },
    "colab_type": "code",
    "id": "vqyqOTbgHtfO"
   },
   "outputs": [],
   "source": []
  }
 ],
 "metadata": {
  "colab": {
   "default_view": {},
   "name": "Python-2.ipynb",
   "provenance": [],
   "version": "0.3.2",
   "views": {}
  },
  "kernelspec": {
   "display_name": "Python 3",
   "language": "python",
   "name": "python3"
  },
  "language_info": {
   "codemirror_mode": {
    "name": "ipython",
    "version": 3
   },
   "file_extension": ".py",
   "mimetype": "text/x-python",
   "name": "python",
   "nbconvert_exporter": "python",
   "pygments_lexer": "ipython3",
   "version": "3.6.4"
  }
 },
 "nbformat": 4,
 "nbformat_minor": 1
}
